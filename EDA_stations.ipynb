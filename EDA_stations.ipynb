{
 "cells": [
  {
   "cell_type": "code",
   "execution_count": 1,
   "metadata": {},
   "outputs": [],
   "source": [
    "import pandas as pd\n",
    "import numpy as np\n",
    "import os\n",
    "import datetime as dt"
   ]
  },
  {
   "cell_type": "code",
   "execution_count": 2,
   "metadata": {},
   "outputs": [
    {
     "data": {
      "text/plain": [
       "'/home/adalaber/Documents/Python'"
      ]
     },
     "execution_count": 2,
     "metadata": {},
     "output_type": "execute_result"
    }
   ],
   "source": [
    "os.getcwd()"
   ]
  },
  {
   "cell_type": "code",
   "execution_count": 3,
   "metadata": {},
   "outputs": [],
   "source": [
    "os.chdir('../ejercicios-de-adalab/project-DA-promo-B-module-3-team-3/Datos/data_trips')"
   ]
  },
  {
   "cell_type": "code",
   "execution_count": 4,
   "metadata": {},
   "outputs": [],
   "source": [
    "trips = pd.read_csv('trips_bikes.csv', index_col=0)"
   ]
  },
  {
   "cell_type": "code",
   "execution_count": 5,
   "metadata": {},
   "outputs": [],
   "source": [
    "stations = pd.read_csv('stations_info.csv', index_col=0)"
   ]
  },
  {
   "cell_type": "code",
   "execution_count": 6,
   "metadata": {},
   "outputs": [
    {
     "data": {
      "text/html": [
       "<div>\n",
       "<style scoped>\n",
       "    .dataframe tbody tr th:only-of-type {\n",
       "        vertical-align: middle;\n",
       "    }\n",
       "\n",
       "    .dataframe tbody tr th {\n",
       "        vertical-align: top;\n",
       "    }\n",
       "\n",
       "    .dataframe thead th {\n",
       "        text-align: right;\n",
       "    }\n",
       "</style>\n",
       "<table border=\"1\" class=\"dataframe\">\n",
       "  <thead>\n",
       "    <tr style=\"text-align: right;\">\n",
       "      <th></th>\n",
       "      <th>Start date</th>\n",
       "      <th>End date</th>\n",
       "      <th>Start station number</th>\n",
       "      <th>Start station</th>\n",
       "      <th>End station number</th>\n",
       "      <th>End station</th>\n",
       "      <th>Bike number</th>\n",
       "      <th>Member type</th>\n",
       "    </tr>\n",
       "    <tr>\n",
       "      <th>Duration</th>\n",
       "      <th></th>\n",
       "      <th></th>\n",
       "      <th></th>\n",
       "      <th></th>\n",
       "      <th></th>\n",
       "      <th></th>\n",
       "      <th></th>\n",
       "      <th></th>\n",
       "    </tr>\n",
       "  </thead>\n",
       "  <tbody>\n",
       "    <tr>\n",
       "      <th>429</th>\n",
       "      <td>2019-10-01 00:01:59</td>\n",
       "      <td>2019-10-01 00:09:08</td>\n",
       "      <td>31214</td>\n",
       "      <td>17th &amp; Corcoran St NW</td>\n",
       "      <td>31203</td>\n",
       "      <td>14th &amp; Rhode Island Ave NW</td>\n",
       "      <td>W23731</td>\n",
       "      <td>Member</td>\n",
       "    </tr>\n",
       "    <tr>\n",
       "      <th>1935</th>\n",
       "      <td>2019-10-01 00:03:07</td>\n",
       "      <td>2019-10-01 00:35:23</td>\n",
       "      <td>31269</td>\n",
       "      <td>3rd St &amp; Pennsylvania Ave SE</td>\n",
       "      <td>31269</td>\n",
       "      <td>3rd St &amp; Pennsylvania Ave SE</td>\n",
       "      <td>W22377</td>\n",
       "      <td>Member</td>\n",
       "    </tr>\n",
       "    <tr>\n",
       "      <th>563</th>\n",
       "      <td>2019-10-01 00:03:51</td>\n",
       "      <td>2019-10-01 00:13:14</td>\n",
       "      <td>31214</td>\n",
       "      <td>17th &amp; Corcoran St NW</td>\n",
       "      <td>31251</td>\n",
       "      <td>12th &amp; L St NW</td>\n",
       "      <td>W23473</td>\n",
       "      <td>Member</td>\n",
       "    </tr>\n",
       "    <tr>\n",
       "      <th>625</th>\n",
       "      <td>2019-10-01 00:05:34</td>\n",
       "      <td>2019-10-01 00:15:59</td>\n",
       "      <td>31301</td>\n",
       "      <td>Ward Circle / American University</td>\n",
       "      <td>31317</td>\n",
       "      <td>Wisconsin Ave &amp; Ingomar St NW</td>\n",
       "      <td>W21371</td>\n",
       "      <td>Member</td>\n",
       "    </tr>\n",
       "    <tr>\n",
       "      <th>312</th>\n",
       "      <td>2019-10-01 00:05:47</td>\n",
       "      <td>2019-10-01 00:10:59</td>\n",
       "      <td>31519</td>\n",
       "      <td>1st &amp; O St NW</td>\n",
       "      <td>31109</td>\n",
       "      <td>7th &amp; T St NW</td>\n",
       "      <td>W23666</td>\n",
       "      <td>Member</td>\n",
       "    </tr>\n",
       "  </tbody>\n",
       "</table>\n",
       "</div>"
      ],
      "text/plain": [
       "                   Start date             End date  Start station number  \\\n",
       "Duration                                                                   \n",
       "429       2019-10-01 00:01:59  2019-10-01 00:09:08                 31214   \n",
       "1935      2019-10-01 00:03:07  2019-10-01 00:35:23                 31269   \n",
       "563       2019-10-01 00:03:51  2019-10-01 00:13:14                 31214   \n",
       "625       2019-10-01 00:05:34  2019-10-01 00:15:59                 31301   \n",
       "312       2019-10-01 00:05:47  2019-10-01 00:10:59                 31519   \n",
       "\n",
       "                              Start station  End station number  \\\n",
       "Duration                                                          \n",
       "429                   17th & Corcoran St NW               31203   \n",
       "1935           3rd St & Pennsylvania Ave SE               31269   \n",
       "563                   17th & Corcoran St NW               31251   \n",
       "625       Ward Circle / American University               31317   \n",
       "312                           1st & O St NW               31109   \n",
       "\n",
       "                            End station Bike number Member type  \n",
       "Duration                                                         \n",
       "429          14th & Rhode Island Ave NW      W23731      Member  \n",
       "1935       3rd St & Pennsylvania Ave SE      W22377      Member  \n",
       "563                      12th & L St NW      W23473      Member  \n",
       "625       Wisconsin Ave & Ingomar St NW      W21371      Member  \n",
       "312                       7th & T St NW      W23666      Member  "
      ]
     },
     "execution_count": 6,
     "metadata": {},
     "output_type": "execute_result"
    }
   ],
   "source": [
    "trips.head(5)"
   ]
  },
  {
   "cell_type": "code",
   "execution_count": 5,
   "metadata": {},
   "outputs": [],
   "source": [
    "trips.reset_index(inplace=True)"
   ]
  },
  {
   "cell_type": "code",
   "execution_count": 6,
   "metadata": {},
   "outputs": [
    {
     "data": {
      "text/html": [
       "<div>\n",
       "<style scoped>\n",
       "    .dataframe tbody tr th:only-of-type {\n",
       "        vertical-align: middle;\n",
       "    }\n",
       "\n",
       "    .dataframe tbody tr th {\n",
       "        vertical-align: top;\n",
       "    }\n",
       "\n",
       "    .dataframe thead th {\n",
       "        text-align: right;\n",
       "    }\n",
       "</style>\n",
       "<table border=\"1\" class=\"dataframe\">\n",
       "  <thead>\n",
       "    <tr style=\"text-align: right;\">\n",
       "      <th></th>\n",
       "      <th>Duration</th>\n",
       "      <th>Start date</th>\n",
       "      <th>End date</th>\n",
       "      <th>Start station number</th>\n",
       "      <th>Start station</th>\n",
       "      <th>End station number</th>\n",
       "      <th>End station</th>\n",
       "      <th>Bike number</th>\n",
       "      <th>Member type</th>\n",
       "    </tr>\n",
       "  </thead>\n",
       "  <tbody>\n",
       "    <tr>\n",
       "      <th>0</th>\n",
       "      <td>429</td>\n",
       "      <td>2019-10-01 00:01:59</td>\n",
       "      <td>2019-10-01 00:09:08</td>\n",
       "      <td>31214</td>\n",
       "      <td>17th &amp; Corcoran St NW</td>\n",
       "      <td>31203</td>\n",
       "      <td>14th &amp; Rhode Island Ave NW</td>\n",
       "      <td>W23731</td>\n",
       "      <td>Member</td>\n",
       "    </tr>\n",
       "    <tr>\n",
       "      <th>1</th>\n",
       "      <td>1935</td>\n",
       "      <td>2019-10-01 00:03:07</td>\n",
       "      <td>2019-10-01 00:35:23</td>\n",
       "      <td>31269</td>\n",
       "      <td>3rd St &amp; Pennsylvania Ave SE</td>\n",
       "      <td>31269</td>\n",
       "      <td>3rd St &amp; Pennsylvania Ave SE</td>\n",
       "      <td>W22377</td>\n",
       "      <td>Member</td>\n",
       "    </tr>\n",
       "    <tr>\n",
       "      <th>2</th>\n",
       "      <td>563</td>\n",
       "      <td>2019-10-01 00:03:51</td>\n",
       "      <td>2019-10-01 00:13:14</td>\n",
       "      <td>31214</td>\n",
       "      <td>17th &amp; Corcoran St NW</td>\n",
       "      <td>31251</td>\n",
       "      <td>12th &amp; L St NW</td>\n",
       "      <td>W23473</td>\n",
       "      <td>Member</td>\n",
       "    </tr>\n",
       "    <tr>\n",
       "      <th>3</th>\n",
       "      <td>625</td>\n",
       "      <td>2019-10-01 00:05:34</td>\n",
       "      <td>2019-10-01 00:15:59</td>\n",
       "      <td>31301</td>\n",
       "      <td>Ward Circle / American University</td>\n",
       "      <td>31317</td>\n",
       "      <td>Wisconsin Ave &amp; Ingomar St NW</td>\n",
       "      <td>W21371</td>\n",
       "      <td>Member</td>\n",
       "    </tr>\n",
       "    <tr>\n",
       "      <th>4</th>\n",
       "      <td>312</td>\n",
       "      <td>2019-10-01 00:05:47</td>\n",
       "      <td>2019-10-01 00:10:59</td>\n",
       "      <td>31519</td>\n",
       "      <td>1st &amp; O St NW</td>\n",
       "      <td>31109</td>\n",
       "      <td>7th &amp; T St NW</td>\n",
       "      <td>W23666</td>\n",
       "      <td>Member</td>\n",
       "    </tr>\n",
       "  </tbody>\n",
       "</table>\n",
       "</div>"
      ],
      "text/plain": [
       "   Duration           Start date             End date  Start station number  \\\n",
       "0       429  2019-10-01 00:01:59  2019-10-01 00:09:08                 31214   \n",
       "1      1935  2019-10-01 00:03:07  2019-10-01 00:35:23                 31269   \n",
       "2       563  2019-10-01 00:03:51  2019-10-01 00:13:14                 31214   \n",
       "3       625  2019-10-01 00:05:34  2019-10-01 00:15:59                 31301   \n",
       "4       312  2019-10-01 00:05:47  2019-10-01 00:10:59                 31519   \n",
       "\n",
       "                       Start station  End station number  \\\n",
       "0              17th & Corcoran St NW               31203   \n",
       "1       3rd St & Pennsylvania Ave SE               31269   \n",
       "2              17th & Corcoran St NW               31251   \n",
       "3  Ward Circle / American University               31317   \n",
       "4                      1st & O St NW               31109   \n",
       "\n",
       "                     End station Bike number Member type  \n",
       "0     14th & Rhode Island Ave NW      W23731      Member  \n",
       "1   3rd St & Pennsylvania Ave SE      W22377      Member  \n",
       "2                 12th & L St NW      W23473      Member  \n",
       "3  Wisconsin Ave & Ingomar St NW      W21371      Member  \n",
       "4                  7th & T St NW      W23666      Member  "
      ]
     },
     "execution_count": 6,
     "metadata": {},
     "output_type": "execute_result"
    }
   ],
   "source": [
    "trips.head(5)"
   ]
  },
  {
   "cell_type": "code",
   "execution_count": 11,
   "metadata": {},
   "outputs": [
    {
     "ename": "TypeError",
     "evalue": "'Series' object is not callable",
     "output_type": "error",
     "traceback": [
      "\u001b[0;31m---------------------------------------------------------------------------\u001b[0m",
      "\u001b[0;31mTypeError\u001b[0m                                 Traceback (most recent call last)",
      "\u001b[1;32m/home/adalaber/Documents/Python/EDA_stations.ipynb Cell 9\u001b[0m in \u001b[0;36m<cell line: 1>\u001b[0;34m()\u001b[0m\n\u001b[0;32m----> <a href='vscode-notebook-cell:/home/adalaber/Documents/Python/EDA_stations.ipynb#X20sZmlsZQ%3D%3D?line=0'>1</a>\u001b[0m trips[\u001b[39m'\u001b[39m\u001b[39mStart date\u001b[39m\u001b[39m'\u001b[39m] \u001b[39m=\u001b[39m pd\u001b[39m.\u001b[39;49mto_datetime(trips[\u001b[39m'\u001b[39;49m\u001b[39mStart date\u001b[39;49m\u001b[39m'\u001b[39;49m])\u001b[39m.\u001b[39;49mdt\u001b[39m.\u001b[39;49mdate()\n",
      "\u001b[0;31mTypeError\u001b[0m: 'Series' object is not callable"
     ]
    }
   ],
   "source": [
    "trips['Start date'] = pd.to_datetime(trips['Start date']).dt.date()"
   ]
  },
  {
   "cell_type": "code",
   "execution_count": 13,
   "metadata": {},
   "outputs": [],
   "source": [
    "trips['Start date'] = trips['Start date'].dt.normalize()"
   ]
  },
  {
   "cell_type": "code",
   "execution_count": 14,
   "metadata": {},
   "outputs": [
    {
     "name": "stdout",
     "output_type": "stream",
     "text": [
      "<class 'pandas.core.frame.DataFrame'>\n",
      "Int64Index: 6941101 entries, 6422367 to 5265223\n",
      "Data columns (total 9 columns):\n",
      " #   Column                Dtype         \n",
      "---  ------                -----         \n",
      " 0   Duration              int64         \n",
      " 1   Start date            datetime64[ns]\n",
      " 2   End date              object        \n",
      " 3   Start station number  int64         \n",
      " 4   Start station         object        \n",
      " 5   End station number    int64         \n",
      " 6   End station           object        \n",
      " 7   Bike number           object        \n",
      " 8   Member type           object        \n",
      "dtypes: datetime64[ns](1), int64(3), object(5)\n",
      "memory usage: 529.6+ MB\n"
     ]
    }
   ],
   "source": [
    "trips.info()"
   ]
  },
  {
   "cell_type": "code",
   "execution_count": 15,
   "metadata": {},
   "outputs": [
    {
     "data": {
      "text/html": [
       "<div>\n",
       "<style scoped>\n",
       "    .dataframe tbody tr th:only-of-type {\n",
       "        vertical-align: middle;\n",
       "    }\n",
       "\n",
       "    .dataframe tbody tr th {\n",
       "        vertical-align: top;\n",
       "    }\n",
       "\n",
       "    .dataframe thead th {\n",
       "        text-align: right;\n",
       "    }\n",
       "</style>\n",
       "<table border=\"1\" class=\"dataframe\">\n",
       "  <thead>\n",
       "    <tr style=\"text-align: right;\">\n",
       "      <th></th>\n",
       "      <th>Duration</th>\n",
       "      <th>Start date</th>\n",
       "      <th>End date</th>\n",
       "      <th>Start station number</th>\n",
       "      <th>Start station</th>\n",
       "      <th>End station number</th>\n",
       "      <th>End station</th>\n",
       "      <th>Bike number</th>\n",
       "      <th>Member type</th>\n",
       "    </tr>\n",
       "  </thead>\n",
       "  <tbody>\n",
       "    <tr>\n",
       "      <th>6422367</th>\n",
       "      <td>552</td>\n",
       "      <td>2018-01-01</td>\n",
       "      <td>2018-01-01 00:14:18</td>\n",
       "      <td>31104</td>\n",
       "      <td>Adams Mill &amp; Columbia Rd NW</td>\n",
       "      <td>31400</td>\n",
       "      <td>Georgia &amp; New Hampshire Ave NW</td>\n",
       "      <td>W00886</td>\n",
       "      <td>Member</td>\n",
       "    </tr>\n",
       "    <tr>\n",
       "      <th>6423179</th>\n",
       "      <td>768</td>\n",
       "      <td>2018-01-01</td>\n",
       "      <td>2018-01-01 16:03:31</td>\n",
       "      <td>31278</td>\n",
       "      <td>18th &amp; R St NW</td>\n",
       "      <td>31305</td>\n",
       "      <td>Connecticut Ave &amp; Newark St NW / Cleveland Park</td>\n",
       "      <td>W01001</td>\n",
       "      <td>Member</td>\n",
       "    </tr>\n",
       "    <tr>\n",
       "      <th>6423178</th>\n",
       "      <td>530</td>\n",
       "      <td>2018-01-01</td>\n",
       "      <td>2018-01-01 15:58:43</td>\n",
       "      <td>31401</td>\n",
       "      <td>14th St &amp; Spring Rd NW</td>\n",
       "      <td>31125</td>\n",
       "      <td>15th &amp; W St NW</td>\n",
       "      <td>W20884</td>\n",
       "      <td>Member</td>\n",
       "    </tr>\n",
       "    <tr>\n",
       "      <th>6423177</th>\n",
       "      <td>781</td>\n",
       "      <td>2018-01-01</td>\n",
       "      <td>2018-01-01 16:01:12</td>\n",
       "      <td>31224</td>\n",
       "      <td>19th &amp; L St NW</td>\n",
       "      <td>31223</td>\n",
       "      <td>Convention Center / 7th &amp; M St NW</td>\n",
       "      <td>W21647</td>\n",
       "      <td>Member</td>\n",
       "    </tr>\n",
       "    <tr>\n",
       "      <th>6423176</th>\n",
       "      <td>481</td>\n",
       "      <td>2018-01-01</td>\n",
       "      <td>2018-01-01 15:55:25</td>\n",
       "      <td>31203</td>\n",
       "      <td>14th &amp; Rhode Island Ave NW</td>\n",
       "      <td>31125</td>\n",
       "      <td>15th &amp; W St NW</td>\n",
       "      <td>W22648</td>\n",
       "      <td>Member</td>\n",
       "    </tr>\n",
       "  </tbody>\n",
       "</table>\n",
       "</div>"
      ],
      "text/plain": [
       "         Duration Start date             End date  Start station number  \\\n",
       "6422367       552 2018-01-01  2018-01-01 00:14:18                 31104   \n",
       "6423179       768 2018-01-01  2018-01-01 16:03:31                 31278   \n",
       "6423178       530 2018-01-01  2018-01-01 15:58:43                 31401   \n",
       "6423177       781 2018-01-01  2018-01-01 16:01:12                 31224   \n",
       "6423176       481 2018-01-01  2018-01-01 15:55:25                 31203   \n",
       "\n",
       "                       Start station  End station number  \\\n",
       "6422367  Adams Mill & Columbia Rd NW               31400   \n",
       "6423179               18th & R St NW               31305   \n",
       "6423178       14th St & Spring Rd NW               31125   \n",
       "6423177               19th & L St NW               31223   \n",
       "6423176   14th & Rhode Island Ave NW               31125   \n",
       "\n",
       "                                             End station Bike number  \\\n",
       "6422367                   Georgia & New Hampshire Ave NW      W00886   \n",
       "6423179  Connecticut Ave & Newark St NW / Cleveland Park      W01001   \n",
       "6423178                                   15th & W St NW      W20884   \n",
       "6423177                Convention Center / 7th & M St NW      W21647   \n",
       "6423176                                   15th & W St NW      W22648   \n",
       "\n",
       "        Member type  \n",
       "6422367      Member  \n",
       "6423179      Member  \n",
       "6423178      Member  \n",
       "6423177      Member  \n",
       "6423176      Member  "
      ]
     },
     "execution_count": 15,
     "metadata": {},
     "output_type": "execute_result"
    }
   ],
   "source": [
    "trips = trips.sort_values(by='Start date', ascending=True)\n",
    "trips.head(5)"
   ]
  },
  {
   "cell_type": "code",
   "execution_count": null,
   "metadata": {},
   "outputs": [],
   "source": []
  },
  {
   "cell_type": "code",
   "execution_count": 23,
   "metadata": {},
   "outputs": [
    {
     "data": {
      "text/html": [
       "<div>\n",
       "<style scoped>\n",
       "    .dataframe tbody tr th:only-of-type {\n",
       "        vertical-align: middle;\n",
       "    }\n",
       "\n",
       "    .dataframe tbody tr th {\n",
       "        vertical-align: top;\n",
       "    }\n",
       "\n",
       "    .dataframe thead th {\n",
       "        text-align: right;\n",
       "    }\n",
       "</style>\n",
       "<table border=\"1\" class=\"dataframe\">\n",
       "  <thead>\n",
       "    <tr style=\"text-align: right;\">\n",
       "      <th></th>\n",
       "      <th>index</th>\n",
       "      <th>Start date</th>\n",
       "    </tr>\n",
       "  </thead>\n",
       "  <tbody>\n",
       "    <tr>\n",
       "      <th>726</th>\n",
       "      <td>2018-01-01</td>\n",
       "      <td>1213</td>\n",
       "    </tr>\n",
       "    <tr>\n",
       "      <th>668</th>\n",
       "      <td>2018-01-02</td>\n",
       "      <td>3792</td>\n",
       "    </tr>\n",
       "    <tr>\n",
       "      <th>636</th>\n",
       "      <td>2018-01-03</td>\n",
       "      <td>4748</td>\n",
       "    </tr>\n",
       "    <tr>\n",
       "      <th>702</th>\n",
       "      <td>2018-01-04</td>\n",
       "      <td>2368</td>\n",
       "    </tr>\n",
       "    <tr>\n",
       "      <th>695</th>\n",
       "      <td>2018-01-05</td>\n",
       "      <td>2709</td>\n",
       "    </tr>\n",
       "    <tr>\n",
       "      <th>...</th>\n",
       "      <td>...</td>\n",
       "      <td>...</td>\n",
       "    </tr>\n",
       "    <tr>\n",
       "      <th>630</th>\n",
       "      <td>2019-12-27</td>\n",
       "      <td>4916</td>\n",
       "    </tr>\n",
       "    <tr>\n",
       "      <th>577</th>\n",
       "      <td>2019-12-28</td>\n",
       "      <td>6282</td>\n",
       "    </tr>\n",
       "    <tr>\n",
       "      <th>724</th>\n",
       "      <td>2019-12-29</td>\n",
       "      <td>1409</td>\n",
       "    </tr>\n",
       "    <tr>\n",
       "      <th>617</th>\n",
       "      <td>2019-12-30</td>\n",
       "      <td>5419</td>\n",
       "    </tr>\n",
       "    <tr>\n",
       "      <th>603</th>\n",
       "      <td>2019-12-31</td>\n",
       "      <td>5746</td>\n",
       "    </tr>\n",
       "  </tbody>\n",
       "</table>\n",
       "<p>730 rows × 2 columns</p>\n",
       "</div>"
      ],
      "text/plain": [
       "         index  Start date\n",
       "726 2018-01-01        1213\n",
       "668 2018-01-02        3792\n",
       "636 2018-01-03        4748\n",
       "702 2018-01-04        2368\n",
       "695 2018-01-05        2709\n",
       "..         ...         ...\n",
       "630 2019-12-27        4916\n",
       "577 2019-12-28        6282\n",
       "724 2019-12-29        1409\n",
       "617 2019-12-30        5419\n",
       "603 2019-12-31        5746\n",
       "\n",
       "[730 rows x 2 columns]"
      ]
     },
     "execution_count": 23,
     "metadata": {},
     "output_type": "execute_result"
    }
   ],
   "source": [
    "cant_trips =pd.DataFrame(trips['Start date'].value_counts())\n",
    "cant_trips.reset_index(inplace=True)\n",
    "cant_trips.sort_values(by='index', inplace=True)\n",
    "cant_trips"
   ]
  },
  {
   "cell_type": "code",
   "execution_count": 7,
   "metadata": {},
   "outputs": [
    {
     "data": {
      "text/plain": [
       "Start date               0\n",
       "End date                 0\n",
       "Start station number     0\n",
       "Start station            0\n",
       "End station number       0\n",
       "End station              0\n",
       "Bike number             14\n",
       "Member type              0\n",
       "dtype: int64"
      ]
     },
     "execution_count": 7,
     "metadata": {},
     "output_type": "execute_result"
    }
   ],
   "source": [
    "trips.isnull().sum()"
   ]
  },
  {
   "cell_type": "code",
   "execution_count": 8,
   "metadata": {},
   "outputs": [
    {
     "name": "stdout",
     "output_type": "stream",
     "text": [
      "<class 'pandas.core.frame.DataFrame'>\n",
      "Int64Index: 6941101 entries, 429 to 467\n",
      "Data columns (total 8 columns):\n",
      " #   Column                Dtype \n",
      "---  ------                ----- \n",
      " 0   Start date            object\n",
      " 1   End date              object\n",
      " 2   Start station number  int64 \n",
      " 3   Start station         object\n",
      " 4   End station number    int64 \n",
      " 5   End station           object\n",
      " 6   Bike number           object\n",
      " 7   Member type           object\n",
      "dtypes: int64(2), object(6)\n",
      "memory usage: 476.6+ MB\n"
     ]
    }
   ],
   "source": [
    "trips.info()"
   ]
  },
  {
   "cell_type": "code",
   "execution_count": 15,
   "metadata": {},
   "outputs": [
    {
     "data": {
      "text/plain": [
       "array([31214, 31269, 31301, 31519, 31212, 31324, 31507, 31064, 31603,\n",
       "       31026, 31246, 31200, 31201, 31308, 31267, 31323, 31241, 31707,\n",
       "       31275, 31623, 31223, 31610, 31615, 31251, 31228, 31616, 31111,\n",
       "       31281, 31105, 32220, 31293, 31605, 31314, 31642, 31411, 31306,\n",
       "       31014, 31013, 31604, 31229, 31277, 31705, 31109, 31226, 31266,\n",
       "       31232, 31204, 31270, 31506, 32035, 31505, 31706, 31617, 31102,\n",
       "       31526, 31509, 31302, 31602, 31629, 31040, 31016, 31649, 31244,\n",
       "       31010, 31418, 31107, 31632, 31045, 31086, 31628, 31052, 31405,\n",
       "       31910, 31051, 31126, 31203, 31283, 31630, 31280, 31084, 31644,\n",
       "       31631, 31242, 31516, 31129, 31117, 31110, 31216, 31640, 31417,\n",
       "       31208, 31298, 31264, 31030, 31101, 31600, 31231, 31626, 31415,\n",
       "       31255, 31609, 31001, 31652, 31641, 31622, 31315, 31303, 31295,\n",
       "       31312, 31401, 31659, 31296, 31119, 31527, 32026, 31103, 31624,\n",
       "       31104, 31112, 31286, 31238, 31606, 31207, 31613, 31035, 31272,\n",
       "       31917, 31230, 31065, 32068, 31125, 31523, 31285, 31658, 31130,\n",
       "       31262, 31115, 31645, 31636, 31915, 31131, 31305, 31118, 31612,\n",
       "       31108, 31651, 31113, 31511, 31120, 31500, 31249, 31913, 31618,\n",
       "       31319, 31124, 31121, 31268, 31282, 31278, 31625, 31643, 31088,\n",
       "       31053, 31916, 31611, 31404, 31245, 31906, 31218, 31243, 31400,\n",
       "       31265, 31627, 31912, 31513, 32008, 31003, 31512, 31114, 31284,\n",
       "       31309, 31650, 31288, 31123, 31300, 31031, 31263, 31213, 31239,\n",
       "       31220, 31093, 31514, 31106, 31211, 31079, 31503, 31046, 31522,\n",
       "       31914, 31413, 31233, 31923, 31002, 31202, 31655, 31256, 31520,\n",
       "       31049, 31619, 32016, 31024, 31518, 31083, 31116, 31638, 31601,\n",
       "       31647, 31646, 31043, 31653, 31657, 31299, 31639, 31621, 31307,\n",
       "       31236, 31524, 31020, 31059, 31614, 31071, 32029, 31237, 31273,\n",
       "       31294, 31274, 32031, 31091, 31419, 31018, 31025, 31900, 31067,\n",
       "       32204, 31039, 31041, 31905, 31502, 31100, 31907, 31820, 31234,\n",
       "       31044, 31802, 31903, 31058, 32082, 31122, 31021, 31069, 31127,\n",
       "       31608, 31407, 31098, 31099, 31036, 31037, 31918, 31087, 31007,\n",
       "       31909, 31080, 32014, 31620, 31092, 31089, 31257, 32234, 32058,\n",
       "       31005, 31224, 31050, 31654, 31047, 31406, 31313, 31247, 32081,\n",
       "       32001, 31635, 31034, 31019, 31812, 31712, 32056, 32215, 31322,\n",
       "       31258, 31291, 32412, 31066, 31803, 31128, 31271, 31022, 31634,\n",
       "       31656, 32046, 31004, 31321, 31310, 32218, 31403, 31073, 31517,\n",
       "       31042, 31015, 31085, 31529, 31637, 31017, 32024, 32032, 31902,\n",
       "       31402, 31525, 31908, 31408, 31032, 31801, 31205, 32027, 31222,\n",
       "       31248, 31261, 31055, 31225, 32235, 31090, 32045, 32004, 31607,\n",
       "       32084, 31304, 32028, 32214, 31048, 31919, 31805, 31260, 31925,\n",
       "       31633, 31521, 32055, 31209, 32011, 31289, 32025, 32006, 32071,\n",
       "       31027, 31254, 31056, 31096, 32009, 31501, 31075, 31250, 31094,\n",
       "       31077, 31029, 32013, 32049, 31924, 31074, 31078, 31317, 31006,\n",
       "       31287, 31253, 32021, 31054, 31227, 32230, 31708, 31219, 31028,\n",
       "       31806, 31920, 31508, 31648, 31412, 31276, 32075, 32606, 32229,\n",
       "       31921, 31297, 31414, 32039, 32018, 31807, 31011, 32232, 31316,\n",
       "       32231, 31901, 31279, 31215, 31217, 32057, 31710, 32048, 32604,\n",
       "       31068, 32605, 32036, 31097, 31012, 32000, 32074, 31062, 31318,\n",
       "       31813, 31070, 31701, 32067, 31252, 32002, 32078, 31221, 31416,\n",
       "       31009, 32010, 31240, 32062, 31420, 32033, 32034, 32403, 31290,\n",
       "       31063, 32083, 31000, 32040, 31259, 31292, 31081, 31904, 31515,\n",
       "       32607, 32422, 32410, 31076, 31804, 32038, 31082, 31235, 32401,\n",
       "       31033, 31528, 32414, 32043, 31206, 32003, 31811, 31320, 31060,\n",
       "       32012, 32221, 32217, 31038, 32418, 32015, 32222, 32017, 32063,\n",
       "       31818, 32065, 32079, 32213, 32200, 32233, 32225, 32609, 32404,\n",
       "       31095, 32208, 32206, 32216, 32020, 31822, 31816, 32047, 32072,\n",
       "       32019, 31800, 32037, 32205, 32224, 32053, 32052, 31700, 32044,\n",
       "       31713, 32420, 31510, 32602, 31817, 32608, 32064, 32402, 31023,\n",
       "       32601, 32417, 31057, 32413, 31061, 32408, 32203, 31072, 32416,\n",
       "       32406, 32415, 32600, 32054, 32603, 32066, 32077, 32073, 32210,\n",
       "       32050, 32219, 32080, 31715, 32400, 32069, 32023, 32421, 32227,\n",
       "       32209, 31711, 31703, 32070, 32201, 31823, 32041, 32212, 32419,\n",
       "       32007, 32022, 32076, 32061, 31815, 32405, 31714, 31704, 32223,\n",
       "       32207, 31702, 32059, 31814, 32030, 32407, 32411, 32409, 32211,\n",
       "       32042, 32005, 31504, 31819, 32228, 31660, 31716, 31717, 31008,\n",
       "       32051,     0, 32423, 31824, 31825, 31718])"
      ]
     },
     "execution_count": 15,
     "metadata": {},
     "output_type": "execute_result"
    }
   ],
   "source": [
    "trips['Start station number'].unique()"
   ]
  },
  {
   "cell_type": "code",
   "execution_count": 13,
   "metadata": {},
   "outputs": [
    {
     "data": {
      "text/plain": [
       "664"
      ]
     },
     "execution_count": 13,
     "metadata": {},
     "output_type": "execute_result"
    }
   ],
   "source": [
    "len(trips['End station'].unique())"
   ]
  },
  {
   "cell_type": "code",
   "execution_count": 11,
   "metadata": {},
   "outputs": [
    {
     "data": {
      "text/plain": [
       "697"
      ]
     },
     "execution_count": 11,
     "metadata": {},
     "output_type": "execute_result"
    }
   ],
   "source": [
    "len(stations.name.unique())"
   ]
  },
  {
   "cell_type": "code",
   "execution_count": 9,
   "metadata": {},
   "outputs": [
    {
     "data": {
      "text/html": [
       "<div>\n",
       "<style scoped>\n",
       "    .dataframe tbody tr th:only-of-type {\n",
       "        vertical-align: middle;\n",
       "    }\n",
       "\n",
       "    .dataframe tbody tr th {\n",
       "        vertical-align: top;\n",
       "    }\n",
       "\n",
       "    .dataframe thead th {\n",
       "        text-align: right;\n",
       "    }\n",
       "</style>\n",
       "<table border=\"1\" class=\"dataframe\">\n",
       "  <thead>\n",
       "    <tr style=\"text-align: right;\">\n",
       "      <th></th>\n",
       "      <th>short_name</th>\n",
       "      <th>capacity</th>\n",
       "      <th>name</th>\n",
       "      <th>region_id</th>\n",
       "      <th>lat</th>\n",
       "      <th>lon</th>\n",
       "    </tr>\n",
       "  </thead>\n",
       "  <tbody>\n",
       "    <tr>\n",
       "      <th>0</th>\n",
       "      <td>31000</td>\n",
       "      <td>15</td>\n",
       "      <td>Eads St &amp; 15th St S</td>\n",
       "      <td>41.0</td>\n",
       "      <td>38.858971</td>\n",
       "      <td>-77.053230</td>\n",
       "    </tr>\n",
       "    <tr>\n",
       "      <th>1</th>\n",
       "      <td>31002</td>\n",
       "      <td>17</td>\n",
       "      <td>Crystal Dr &amp; 20th St S</td>\n",
       "      <td>41.0</td>\n",
       "      <td>38.856425</td>\n",
       "      <td>-77.049232</td>\n",
       "    </tr>\n",
       "    <tr>\n",
       "      <th>2</th>\n",
       "      <td>31003</td>\n",
       "      <td>16</td>\n",
       "      <td>Crystal Dr &amp; 15th St S</td>\n",
       "      <td>41.0</td>\n",
       "      <td>38.861056</td>\n",
       "      <td>-77.049417</td>\n",
       "    </tr>\n",
       "    <tr>\n",
       "      <th>3</th>\n",
       "      <td>31004</td>\n",
       "      <td>12</td>\n",
       "      <td>Aurora Hills Cmty Ctr / 18th St &amp; S Hayes St</td>\n",
       "      <td>41.0</td>\n",
       "      <td>38.857866</td>\n",
       "      <td>-77.059490</td>\n",
       "    </tr>\n",
       "    <tr>\n",
       "      <th>4</th>\n",
       "      <td>31005</td>\n",
       "      <td>19</td>\n",
       "      <td>Pentagon City Metro / 12th St &amp; S Hayes St</td>\n",
       "      <td>41.0</td>\n",
       "      <td>38.862303</td>\n",
       "      <td>-77.059936</td>\n",
       "    </tr>\n",
       "  </tbody>\n",
       "</table>\n",
       "</div>"
      ],
      "text/plain": [
       "   short_name  capacity                                          name  \\\n",
       "0       31000        15                           Eads St & 15th St S   \n",
       "1       31002        17                        Crystal Dr & 20th St S   \n",
       "2       31003        16                        Crystal Dr & 15th St S   \n",
       "3       31004        12  Aurora Hills Cmty Ctr / 18th St & S Hayes St   \n",
       "4       31005        19    Pentagon City Metro / 12th St & S Hayes St   \n",
       "\n",
       "   region_id        lat        lon  \n",
       "0       41.0  38.858971 -77.053230  \n",
       "1       41.0  38.856425 -77.049232  \n",
       "2       41.0  38.861056 -77.049417  \n",
       "3       41.0  38.857866 -77.059490  \n",
       "4       41.0  38.862303 -77.059936  "
      ]
     },
     "execution_count": 9,
     "metadata": {},
     "output_type": "execute_result"
    }
   ],
   "source": [
    "stations.head(5)"
   ]
  }
 ],
 "metadata": {
  "kernelspec": {
   "display_name": "Python 3.9.13 ('base')",
   "language": "python",
   "name": "python3"
  },
  "language_info": {
   "codemirror_mode": {
    "name": "ipython",
    "version": 3
   },
   "file_extension": ".py",
   "mimetype": "text/x-python",
   "name": "python",
   "nbconvert_exporter": "python",
   "pygments_lexer": "ipython3",
   "version": "3.9.13"
  },
  "orig_nbformat": 4,
  "vscode": {
   "interpreter": {
    "hash": "0620710c65b0f5ccc651a2aa8870ae0eb4c70492424a8d7866846658189426a3"
   }
  }
 },
 "nbformat": 4,
 "nbformat_minor": 2
}
