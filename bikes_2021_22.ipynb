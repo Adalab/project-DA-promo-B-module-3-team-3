{
 "cells": [
  {
   "cell_type": "code",
   "execution_count": null,
   "metadata": {},
   "outputs": [],
   "source": [
    "# Festivos"
   ]
  },
  {
   "cell_type": "markdown",
   "metadata": {},
   "source": [
    "2022 Holiday Schedule\n",
    "\n",
    "    New Year's Day: Friday, December 31, 2021*\n",
    "    Dr. Martin Luther King, Jr.'s Birthday: Monday, January 17, 2022\n",
    "    Washington's Birthday: Monday, February 21, 2022\n",
    "    DC Emancipation Day: Friday, April 15, 2022*\n",
    "    Memorial Day: Monday, May 30, 2022\n",
    "    Juneteenth National Independence Day: Monday, June 20, 2022*\n",
    "    Independence Day: Monday, July 4, 2022\n",
    "    Labor Day: Monday, September 5, 2022\n",
    "    Indigenous Peoples' Day: Monday, October 10, 2022\n",
    "    Veterans Day: Friday, November 11, 2022\n",
    "    Thanksgiving Day: Thursday, November 24, 2022\n",
    "    Christmas Day: Monday, December 26, 2022*\n",
    "\n",
    "\n",
    "Holiday Schedule for 2021\n",
    "\n",
    "    Friday, January 1, 2021: New Year's Day\n",
    "    Monday, January 18, 2021: Martin Luther King, Jr.'s Birthday\n",
    "    Wednesday, January 20, 2021:  Inauguration Day\n",
    "    Monday, February 15, 2021: Washington's Birthday (Presidents' Day)\n",
    "    Friday, April 16, 2021: DC Emancipation Day\n",
    "    Monday, May 31, 2021: Memorial Day\n",
    "    Friday, June 18, 2021: Juneteenth National Independence Day\n",
    "    Monday, July 5, 2021: Independence Day*\n",
    "    Monday, September 6, 2021: Labor Day\n",
    "    Monday, October 11, 2021: Indigenous Peoples' Day\n",
    "    Thursday, November 11, 2021: Veterans Day\n",
    "    Thursday, November 25, 2021: Thanksgiving Day\n",
    "    Friday, December 24, 2021: Christmas Day\n"
   ]
  },
  {
   "cell_type": "code",
   "execution_count": null,
   "metadata": {},
   "outputs": [],
   "source": [
    "# datos de clima"
   ]
  },
  {
   "cell_type": "code",
   "execution_count": null,
   "metadata": {},
   "outputs": [],
   "source": [
    "# datos de tráfico"
   ]
  }
 ],
 "metadata": {
  "kernelspec": {
   "display_name": "Python 3.8.10 64-bit",
   "language": "python",
   "name": "python3"
  },
  "language_info": {
   "name": "python",
   "version": "3.8.10"
  },
  "orig_nbformat": 4,
  "vscode": {
   "interpreter": {
    "hash": "916dbcbb3f70747c44a77c7bcd40155683ae19c65e1c03b4aa3499c5328201f1"
   }
  }
 },
 "nbformat": 4,
 "nbformat_minor": 2
}
